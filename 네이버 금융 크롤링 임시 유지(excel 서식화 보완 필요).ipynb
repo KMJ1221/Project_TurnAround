{
  "nbformat": 4,
  "nbformat_minor": 0,
  "metadata": {
    "accelerator": "GPU",
    "colab": {
      "name": "miniproject_stock_price.ipynb",
      "provenance": [],
      "toc_visible": true
    },
    "kernelspec": {
      "display_name": "Python 3",
      "language": "python",
      "name": "python3"
    },
    "language_info": {
      "codemirror_mode": {
        "name": "ipython",
        "version": 3
      },
      "file_extension": ".py",
      "mimetype": "text/x-python",
      "name": "python",
      "nbconvert_exporter": "python",
      "pygments_lexer": "ipython3",
      "version": "3.7.6"
    },
    "toc": {
      "base_numbering": 1,
      "nav_menu": {
        "height": "12px",
        "width": "164px"
      },
      "number_sections": false,
      "sideBar": true,
      "skip_h1_title": false,
      "title_cell": "Table of Contents",
      "title_sidebar": "Contents",
      "toc_cell": false,
      "toc_position": {},
      "toc_section_display": true,
      "toc_window_display": false
    }
  },
  "cells": [
    {
      "cell_type": "markdown",
      "metadata": {
        "colab_type": "text",
        "id": "jWoi0LVYKbw6"
      },
      "source": [
        "# 웹 크롤링 기본\n",
        "\n",
        "* 크롤링 사이트: https://finance.naver.com/\n",
        "\n",
        "\n",
        "### 크롤링 절차\n",
        "\n",
        "1. 사이트의 html을 읽어들이기: requests.get(url) 사용\n",
        "    \n",
        "2. 텍스트 형태의 데이터를 html 태그별로 구분하여 파싱하기 : BeutifulSoup\n",
        "\n",
        "3. 특정 태그값만 찾기 : findAll, find\n",
        "\n",
        "4. 필요한 데이터값 정제하기\n",
        "\n",
        "5. 데이터 저장하기"
      ]
    },
    {
      "cell_type": "code",
      "metadata": {
        "colab_type": "code",
        "id": "zdyiDeRyKbw7",
        "colab": {}
      },
      "source": [
        "#!pip install selenium\n",
        "from bs4 import BeautifulSoup\n",
        "import requests\n",
        "import pandas as pd\n",
        "import re\n",
        "\n",
        "# from selenium import webdriver\n",
        "# import time\n",
        "# from selenium.webdriver.chrome.options import Options \n",
        "# import os "
      ],
      "execution_count": 27,
      "outputs": []
    },
    {
      "cell_type": "code",
      "metadata": {
        "colab_type": "code",
        "id": "Yq2w_WY3LO3_",
        "colab": {}
      },
      "source": [
        "# from google.colab import drive\n",
        "# drive.mount('/content/drive')"
      ],
      "execution_count": 28,
      "outputs": []
    },
    {
      "cell_type": "code",
      "metadata": {
        "colab_type": "code",
        "id": "WuC5GYI9KbxH",
        "colab": {}
      },
      "source": [
        "# 현대차 네이버 종목토론실 게시글 크롤링하기 \n",
        "a=[]\n",
        "def crawling(numpage):\n",
        "    b=[]\n",
        "    for i in range(numpage+1):\n",
        "        url = 'https://finance.naver.com/item/board.nhn?code=005380&page=%d'%i  # 현대차\n",
        "        request_headers = { \n",
        "    'User-Agent' : ('Mozilla/5.0 (Windows NT 10.0;Win64; x64)\\\n",
        "    AppleWebKit/537.36 (KHTML, like Gecko) Chrome/71.0.3578.98\\\n",
        "    Safari/537.36'), } \n",
        "        source=requests.get(url,headers=request_headers)\n",
        "        soup=BeautifulSoup(source.text,'html.parser')\n",
        "        lists = soup.findAll('div', {'class' : 'section inner_sub'}) \n",
        "        name = []\n",
        "        for tmp in lists:\n",
        "            title_list = tmp.findAll('td', {'class': \"title\" })\n",
        "            for i in title_list:\n",
        "                name.append(i.find('a')['title'])\n",
        "                #print(type(i.find('a')['title']))\n",
        "            \n",
        "            #return(name)\n",
        "            #print(name)\n",
        "            a.append(name)"
      ],
      "execution_count": 72,
      "outputs": []
    },
    {
      "cell_type": "code",
      "metadata": {
        "colab_type": "code",
        "id": "GZi5lBHzePhK",
        "colab": {}
      },
      "source": [
        "# 텍스트 파일\n",
        "crawling(10)"
      ],
      "execution_count": 73,
      "outputs": []
    },
    {
      "cell_type": "code",
      "metadata": {
        "id": "RbK3Mie6OnAh",
        "colab_type": "code",
        "colab": {
          "base_uri": "https://localhost:8080/",
          "height": 1000
        },
        "outputId": "51cf6e88-26a9-4d17-9f1e-920033d7a09c"
      },
      "source": [
        "a"
      ],
      "execution_count": 74,
      "outputs": [
        {
          "output_type": "execute_result",
          "data": {
            "text/plain": [
              "[['에휴',\n",
              "  '무제',\n",
              "  '목사 한넘이  나라말아먹네',\n",
              "  '미수 신용은 확신이 있을 때나 생각해 보세요',\n",
              "  '희망고문 시작이네',\n",
              "  '오늘 지수도 안좋았고.. 수급 좋은데 몰걱정해요??',\n",
              "  'ㅇㅇㅇㅃ ㅃ 시간외 바이오스마트ㆍㆍ매 ㅅㆍㆍ',\n",
              "  '주식 못하는 사람 특징',\n",
              "  '현대차 대응방입니다..',\n",
              "  '결국 떴네요..기가찹니다..',\n",
              "  '결국 시간외종가에서 먼저 빠집니다..',\n",
              "  ' 전광훈 기독교 가짜보수 미래통합당',\n",
              "  'OOO들 ㅋㅋ 현금갖고있으면 어차피 쓰니까 걍 묻지마몰빵쳐라',\n",
              "  '부자들은...진짜',\n",
              "  '투싼발표해라',\n",
              "  '현대차는 ',\n",
              "  '그 목사 인가 그놈 찾아가 조져야하는거 아니냐',\n",
              "  '10만 --> 18만 -->?',\n",
              "  '주식은 가치투자 ',\n",
              "  '현대 세형제 중에서'],\n",
              " ['타이밍 개꿀',\n",
              "  '물려도 테슬라에 처물려야지 현대차에 처물리냐',\n",
              "  '■현대차 2년내 부도,상폐 처리될 것이다.27만원->15만원->상폐[투자금지]',\n",
              "  '■현대차 2년내 부도,상폐 처리될 것이다.27만원->15만원->상폐[투자금지]',\n",
              "  '12층인데 익절하고 튀어야 하나',\n",
              "  '주포는 기관,',\n",
              "  '와.. 이렇게 많이 먹을줄몰랐다..',\n",
              "  '내일 10퍼 오른다',\n",
              "  '이내 용발-표 할거라 네요..',\n",
              "  '테슬라 사라됴',\n",
              "  '게시판에서 100만원 소리나오면',\n",
              "  ' ㅋㅋㅋ도대체 밑에놈은 머가리가있냐? 조정같은소리하네',\n",
              "  '안녕하세요',\n",
              "  '당분간 바닥 찾기 들어가야하나',\n",
              "  '당분간은',\n",
              "  '계단식 하락이다',\n",
              "  '오늘은 조정',\n",
              "  '이제 막 터진..겁니다.,.',\n",
              "  '집담보대출 ㅋㅋ ',\n",
              "  '그냥 재무표 믿고 기다립니다.'],\n",
              " ['가치투자가 어쩌고 저쩌고,',\n",
              "  '코스피 더내림 ',\n",
              "  '희망회로 하난 인정',\n",
              "  '계속 빠지는 이유',\n",
              "  'ㅇㅇ',\n",
              "  '형님들 ... 어떤 선택을 하실건가요??',\n",
              "  '조만간  폭등각ㆍ조만간17도 보기힘듬ㆍ내리오르락상승세지속 .조정시매수ㅡ미래수년간 확실시',\n",
              "  '■현대차 16만원 붕괴',\n",
              "  '코스피 급락은 아니지만 1800선까지 조정보인다',\n",
              "  '오늘 외국인,프로그램 매매현황',\n",
              "  '아침뉴스 나올때 부터 알아봤어야했어',\n",
              "  '일단 희망을 버리지 않습니다',\n",
              "  '얼마든지 떨어져도되니 카카오처럼만',\n",
              "  '내일 코로나확진자 터지면 OOO',\n",
              "  '주린이들아 내일 현대차 증시일정이다',\n",
              "  ' 대통령이 무능하니',\n",
              "  'ㅅ ㅅ ㅅ ㅅ 쏴리질러ㅛ ㅋㅋㅋㅋㅋ',\n",
              "  '올해 30가고 내년에 50간다고?',\n",
              "  '기다렸어야했어',\n",
              "  '16만원 깨지면 사야지 했는데'],\n",
              " ['필독 !!!',\n",
              "  '음 저기',\n",
              "  '오늘좀...',\n",
              "  '배팅 성공일까? 156500에 천주담았는디',\n",
              "  '당분간 조정권에 진입한듯 보여지네요.',\n",
              "  '오늘 동향 나왔네요',\n",
              "  '악연',\n",
              "  '주식 원투데이하냐?',\n",
              "  '연개금 놈들 대단하다',\n",
              "  '이제 추세는 꺽였다',\n",
              "  '30찾고 50찾고',\n",
              "  '마이너스 8프로 손절했네요ㅠㅠ',\n",
              "  'ㅇㅇ',\n",
              "  '내일 시초가',\n",
              "  '투자해놓고',\n",
              "  '디질래?',\n",
              "  '그렇게 올라댔으니 빠지겠지~ ',\n",
              "  '오늘 정확히 맞췄네~',\n",
              "  '본좌가 종가에 1주 물탓다',\n",
              "  '아니 미국은 코로나 터져도 아무반응없는데'],\n",
              " ['내일은  14만원대',\n",
              "  '호재와 가치가 얼만데 또 코로나에 무너지네',\n",
              "  '전광ㅈ훈  ㄱ  ㅣ   ㅓ     시      ㆍㅣ    끼 가큰일',\n",
              "  '상식적 매매',\n",
              "  '주린이 21일차 종가에 사면 호구인가요?',\n",
              "  '내일이 걱정이다..내일이....',\n",
              "  '징징거리는놈들 신용이지? 그돈없으면 죽냐',\n",
              "  '저가 담고 반등 나오면  팔고',\n",
              "  '주린이들....',\n",
              "  '작전이니 뭐니 ',\n",
              "  '하락장 시작이냐???',\n",
              "  '앞으로 15만원 더떨어져도',\n",
              "  '이래도 꼭지 아닌거 같냐',\n",
              "  '아 돈많은 분들 좀 사주세요',\n",
              "  '안녕하세요 15.7 입성했어요.',\n",
              "  '지금 봐서는',\n",
              "  '끝물에 얼마 찍을 것인가!!!?',\n",
              "  '존버하시면 됩니다',\n",
              "  '아',\n",
              "  '공매도 완전 금지해라 잔고만 1천200억 넘게있네'],\n",
              " ['현기차 필승전략 알려드릴께요~',\n",
              "  '약속하듯 장막판 대부분 종목 하락',\n",
              "  '2차 펜데믹?',\n",
              "  '이 개잡주 대응법',\n",
              "  '(강조)내일은 더 빠진다.',\n",
              "  '(강조)내일은 더 빠진다.',\n",
              "  '낼 2~3%먹겠다고 오늘 종가베팅하는 호구없재',\n",
              "  '코스피를 처 아작내놨네',\n",
              "  '오늘이 바로 신용 미수 땡기는 날이다.',\n",
              "  '아... 10일선 못 버틸것같아 일단 익절',\n",
              "  '으서니형~!!',\n",
              "  '시초가 매도 하라고 31번 말씀 드렸습니다.',\n",
              "  '전 목사',\n",
              "  '와 신용 잣될뻔',\n",
              "  '17층 존버중이다',\n",
              "  '이 정도면 외인들이',\n",
              "  '나스닥 선물 하락 반전',\n",
              "  '아침에 내가 눈이 삐어가지고',\n",
              "  '개잡주 하루에 기본 1만원씩 빠지네',\n",
              "  '진짜 진짜'],\n",
              " ['전광훈 누가 사주했나? ',\n",
              "  '와 현대차 사랑해',\n",
              "  '새가슴들',\n",
              "  '동시호가에 던지고',\n",
              "  '울고싶은넘 뺨때리는장',\n",
              "  '내일 한강 갈 사람 여기여기 붙어라^^',\n",
              "  '■현대차 4일째 폭락 16만원 붕괴',\n",
              "  '기관 투신  연기금  개물림 ',\n",
              "  '최근 일주일 사이에 늘어난 신용금액이',\n",
              "  '미끼를 물었어.....',\n",
              "  '어차피 현대차가 잡주도아니고',\n",
              "  '내일 갭 하락 가능성 농후',\n",
              "  '종가예상',\n",
              "  '138,000원 전후로 반전온다. 지금으느 계속 내려간다',\n",
              "  'ㅋㅋㅋㅋㅋㅋㅋㅋ 난 탈출 성공',\n",
              "  '헐',\n",
              "  '지금이 문제가 아냐',\n",
              "  '젓광훈 ㄱ ㅅ 기',\n",
              "  '요오시! 아주 좋아',\n",
              "  '신용개미 천국 현대차'],\n",
              " ['간다 간다 뿅간다!',\n",
              "  '애미야 춥다',\n",
              "  '무섭네',\n",
              "  '전광훈 효과',\n",
              "  '자ㅡ이제...',\n",
              "  '이렇게 된거 배당금이나 받으면서 존버하자 100주면 얼마야 배당금 ?안느사람!!!?',\n",
              "  '현대차 매동',\n",
              "  '먼 악재떳나요?',\n",
              "  '개잡주 씨댕ㅠ',\n",
              "  '쫄리냐?',\n",
              "  '찬티고 안티고',\n",
              "  '너무 내리니깐 무섭다요~~~그만좀내려라',\n",
              "  '여기까지인것 같다.',\n",
              "  '그냥 ?다가 한 2~3년 정도 배당금 받으면 손실 매꿀거',\n",
              "  '추매200주',\n",
              "  '전광훈목사,허선아,박형순판사가 큰일 하네 ...사지를 틀어..',\n",
              "  '현다이',\n",
              "  '5000주 추매완료',\n",
              "  '형들 조진것 같아',\n",
              "  '역시'],\n",
              " ['이런 쓰레기 ㅠㅠㅠ',\n",
              "  '모르고 지나치면 낼 후회함...;',\n",
              "  '어뗘?',\n",
              "  'ㅋㅋㅋㅋㅋㅋㅋ떨어지는 낙엽이냐',\n",
              "  '인버스에서는 전광훈이를 대통령으로 이 ㅈㄹ하고있다',\n",
              "  '내릴때 담는다',\n",
              "  '위기는 기회다',\n",
              "  '그만',\n",
              "  '이 시국에 집회는 아니잖아 진짜..',\n",
              "  '안까 자동차안에 사람이 탄다고 언택이라든놈 어디감',\n",
              "  '왐마씨',\n",
              "  '아 시 바 젼 나 빠지네..',\n",
              "  '전광훈때문에 1억 날라갔다',\n",
              "  '어뗘?',\n",
              "  '아나 미처 ㅠ',\n",
              "  '3천원식 떨어질때마다 계속 추매한다',\n",
              "  '이 와중에 개관놈들 드리블하는 실력봐라',\n",
              "  '역시 우리나라에서 믿을 만한 회사는 삼성전자뿐이네',\n",
              "  '1차보다 경제타격 더 크면',\n",
              "  '왜국인들 개 던지내,,,,'],\n",
              " ['제2차 팬데믹',\n",
              "  '아직 57500 남았구나. 더 내려가자 .',\n",
              "  '전광훈 OOO!!!!',\n",
              "  '무섭 ㄷㄷㄷ',\n",
              "  '누가 전광훈 목사 좀 ...',\n",
              "  '전광후이와',\n",
              "  '그래서',\n",
              "  '토론장에 글이 줄어드는거 보니',\n",
              "  '지수가 무너지니...어쩔수 없구나ㅠㅠ',\n",
              "  '156500에 1000주 샀다 ㅎㅎ',\n",
              "  '코로나전파자 광후니',\n",
              "  '줍줍 한다는 늠',\n",
              "  '전광훈 모가지따러 가자....',\n",
              "  '매수',\n",
              "  '솔직히 곡소리는 아직이지',\n",
              "  '현대는 왜이러냐 주가는 또 왜이러냐',\n",
              "  '아주 심장이 쫄깃쫄깃 하구만',\n",
              "  '내일도',\n",
              "  '미래에셋대우 세력 다 터네',\n",
              "  '현대 마켓팅팀 일 안하는듯']]"
            ]
          },
          "metadata": {
            "tags": []
          },
          "execution_count": 74
        }
      ]
    },
    {
      "cell_type": "code",
      "metadata": {
        "id": "_8H9JEsZQqHH",
        "colab_type": "code",
        "colab": {}
      },
      "source": [
        "import pandas as pd   # pandas 를 불러온다. \n",
        "\n",
        "# 크롤링 결과 results 를 pandas의 DataFrame 형식으로 읽어온다. \n",
        "data = pd.DataFrame(a)     "
      ],
      "execution_count": 70,
      "outputs": []
    },
    {
      "cell_type": "code",
      "metadata": {
        "id": "UOXv4E-SPTkx",
        "colab_type": "code",
        "colab": {}
      },
      "source": [
        "#data.to_csv('크롤링결과.csv')  \n",
        "data.to_csv('크롤링결과.csv', encoding='cp949') \n",
        "\n"
      ],
      "execution_count": 75,
      "outputs": []
    },
    {
      "cell_type": "code",
      "metadata": {
        "id": "mACFFT2HOpXe",
        "colab_type": "code",
        "colab": {}
      },
      "source": [
        "# f=open('현대_종목토론실.txt','w')\n",
        "# f.close()"
      ],
      "execution_count": 26,
      "outputs": []
    },
    {
      "cell_type": "code",
      "metadata": {
        "id": "XmVPD3bKN_NG",
        "colab_type": "code",
        "colab": {
          "base_uri": "https://localhost:8080/",
          "height": 34
        },
        "outputId": "98c0c7b8-098d-4410-eda6-32d327f123a9"
      },
      "source": [
        "from google.colab import drive\n",
        "drive.mount('/content/drive')"
      ],
      "execution_count": 21,
      "outputs": [
        {
          "output_type": "stream",
          "text": [
            "Drive already mounted at /content/drive; to attempt to forcibly remount, call drive.mount(\"/content/drive\", force_remount=True).\n"
          ],
          "name": "stdout"
        }
      ]
    },
    {
      "cell_type": "code",
      "metadata": {
        "id": "UnCviXieHxP9",
        "colab_type": "code",
        "colab": {}
      },
      "source": [
        "l = []\n",
        "l.append(crawling(100))"
      ],
      "execution_count": null,
      "outputs": []
    },
    {
      "cell_type": "code",
      "metadata": {
        "id": "eISL8HD-KTFr",
        "colab_type": "code",
        "colab": {
          "base_uri": "https://localhost:8080/",
          "height": 34
        },
        "outputId": "dd22237f-d2e1-4654-fa60-e6a2188b9be7"
      },
      "source": [
        "l"
      ],
      "execution_count": 16,
      "outputs": [
        {
          "output_type": "execute_result",
          "data": {
            "text/plain": [
              "[None]"
            ]
          },
          "metadata": {
            "tags": []
          },
          "execution_count": 16
        }
      ]
    },
    {
      "cell_type": "code",
      "metadata": {
        "id": "SCTXWcDeJQAN",
        "colab_type": "code",
        "colab": {}
      },
      "source": [
        "import pandas as pd"
      ],
      "execution_count": 12,
      "outputs": []
    },
    {
      "cell_type": "code",
      "metadata": {
        "id": "4xthu-rqJHA0",
        "colab_type": "code",
        "colab": {}
      },
      "source": [
        "df = pd.DataFrame(l, columns=['words'])\n",
        "df.to_excel('현대_keyword.xlsx', index=False) "
      ],
      "execution_count": 13,
      "outputs": []
    },
    {
      "cell_type": "code",
      "metadata": {
        "id": "hcfm9efwCpGc",
        "colab_type": "code",
        "colab": {}
      },
      "source": [
        "for i in name :\n",
        "    i.replace('\\t', ' ').replace('\\n', ' ')\n",
        "    print(i)"
      ],
      "execution_count": null,
      "outputs": []
    }
  ]
}